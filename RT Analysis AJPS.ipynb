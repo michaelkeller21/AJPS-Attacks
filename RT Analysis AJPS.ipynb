{
 "cells": [
  {
   "cell_type": "code",
   "execution_count": 1,
   "metadata": {},
   "outputs": [],
   "source": [
    "from AJPS_full import keygen, enc, dec\n",
    "from util import timer, int2string, string2int\n",
    "import matplotlib.pyplot as plt\n",
    "import numpy as np\n",
    "from ecc import E, D\n",
    "%matplotlib inline"
   ]
  },
  {
   "cell_type": "code",
   "execution_count": 2,
   "metadata": {},
   "outputs": [],
   "source": [
    "ns = [11213, 19937, 21701, 23209, 44497, 86243, 110503, 132049, 216091, 756839, 859433, 1257787,\n",
    "     1398269, 2976221, 3021377, 6972593, 13446917] \n",
    "#       20996011, 24036583, 25964951, 30402457, 32582657,\n",
    "#      37156667, 43112609, 42643801, 57885161, 74207281, 77232917, 82589933]"
   ]
  },
  {
   "cell_type": "markdown",
   "metadata": {},
   "source": [
    "AJPS FULL without GMPY2"
   ]
  },
  {
   "cell_type": "code",
   "execution_count": 3,
   "metadata": {},
   "outputs": [
    {
     "name": "stdout",
     "output_type": "stream",
     "text": [
      "11213 0.11692368984222412\n",
      "19937 0.2131110429763794\n",
      "21701 0.22489619255065918\n",
      "23209 0.24931621551513672\n",
      "44497 0.4756472110748291\n",
      "86243 0.9658713340759277\n",
      "110503 1.1274182796478271\n",
      "132049 1.3376468420028687\n",
      "216091 2.2014936208724976\n",
      "756839 7.680999159812927\n",
      "859433 8.714675664901733\n",
      "1257787 12.86062228679657\n",
      "1398269 14.30858850479126\n"
     ]
    },
    {
     "ename": "KeyboardInterrupt",
     "evalue": "",
     "output_type": "error",
     "traceback": [
      "\u001b[1;31m---------------------------------------------------------------------------\u001b[0m",
      "\u001b[1;31mKeyboardInterrupt\u001b[0m                         Traceback (most recent call last)",
      "\u001b[1;32m<ipython-input-3-ada48f8fdb37>\u001b[0m in \u001b[0;36m<module>\u001b[1;34m\u001b[0m\n\u001b[0;32m     20\u001b[0m     \u001b[1;31m# ENCRYPTION\u001b[0m\u001b[1;33m\u001b[0m\u001b[1;33m\u001b[0m\u001b[1;33m\u001b[0m\u001b[0m\n\u001b[0;32m     21\u001b[0m     \u001b[0mparams\u001b[0m \u001b[1;33m=\u001b[0m \u001b[1;33m[\u001b[0m\u001b[0mm\u001b[0m\u001b[1;33m,\u001b[0m \u001b[0mpk\u001b[0m\u001b[1;33m,\u001b[0m \u001b[0mp\u001b[0m\u001b[1;33m,\u001b[0m \u001b[0mn\u001b[0m\u001b[1;33m,\u001b[0m \u001b[0mh\u001b[0m\u001b[1;33m]\u001b[0m\u001b[1;33m\u001b[0m\u001b[1;33m\u001b[0m\u001b[0m\n\u001b[1;32m---> 22\u001b[1;33m     \u001b[0mtime\u001b[0m\u001b[1;33m,\u001b[0m \u001b[0mret\u001b[0m \u001b[1;33m=\u001b[0m \u001b[0mtimer\u001b[0m\u001b[1;33m(\u001b[0m\u001b[0menc\u001b[0m\u001b[1;33m,\u001b[0m \u001b[0mparams\u001b[0m\u001b[1;33m,\u001b[0m \u001b[0mruns\u001b[0m\u001b[1;33m)\u001b[0m\u001b[1;33m\u001b[0m\u001b[1;33m\u001b[0m\u001b[0m\n\u001b[0m\u001b[0;32m     23\u001b[0m     \u001b[0macc\u001b[0m\u001b[1;33m[\u001b[0m\u001b[0mi\u001b[0m\u001b[1;33m]\u001b[0m\u001b[1;33m[\u001b[0m\u001b[1;36m1\u001b[0m\u001b[1;33m]\u001b[0m \u001b[1;33m=\u001b[0m \u001b[0mtime\u001b[0m\u001b[1;33m\u001b[0m\u001b[1;33m\u001b[0m\u001b[0m\n\u001b[0;32m     24\u001b[0m     \u001b[0mC\u001b[0m \u001b[1;33m=\u001b[0m \u001b[0mret\u001b[0m\u001b[1;33m\u001b[0m\u001b[1;33m\u001b[0m\u001b[0m\n",
      "\u001b[1;32m~\\Dropbox\\Personal Website\\AJPS-Attacks\\util.py\u001b[0m in \u001b[0;36mtimer\u001b[1;34m(fx, params, runs)\u001b[0m\n\u001b[0;32m     22\u001b[0m     \u001b[1;32mfor\u001b[0m \u001b[0m_\u001b[0m \u001b[1;32min\u001b[0m \u001b[0mrange\u001b[0m\u001b[1;33m(\u001b[0m\u001b[0mruns\u001b[0m\u001b[1;33m)\u001b[0m\u001b[1;33m:\u001b[0m\u001b[1;33m\u001b[0m\u001b[1;33m\u001b[0m\u001b[0m\n\u001b[0;32m     23\u001b[0m         \u001b[0mbefore\u001b[0m \u001b[1;33m=\u001b[0m \u001b[0mtime\u001b[0m\u001b[1;33m.\u001b[0m\u001b[0mtime\u001b[0m\u001b[1;33m(\u001b[0m\u001b[1;33m)\u001b[0m\u001b[1;33m\u001b[0m\u001b[1;33m\u001b[0m\u001b[0m\n\u001b[1;32m---> 24\u001b[1;33m         \u001b[0mret\u001b[0m \u001b[1;33m=\u001b[0m \u001b[0mfx\u001b[0m\u001b[1;33m(\u001b[0m\u001b[1;33m*\u001b[0m\u001b[0mparams\u001b[0m\u001b[1;33m)\u001b[0m\u001b[1;33m\u001b[0m\u001b[1;33m\u001b[0m\u001b[0m\n\u001b[0m\u001b[0;32m     25\u001b[0m         \u001b[0mafter\u001b[0m \u001b[1;33m=\u001b[0m \u001b[0mtime\u001b[0m\u001b[1;33m.\u001b[0m\u001b[0mtime\u001b[0m\u001b[1;33m(\u001b[0m\u001b[1;33m)\u001b[0m\u001b[1;33m\u001b[0m\u001b[1;33m\u001b[0m\u001b[0m\n\u001b[0;32m     26\u001b[0m \u001b[1;33m\u001b[0m\u001b[0m\n",
      "\u001b[1;32m~\\Dropbox\\Personal Website\\AJPS-Attacks\\AJPS_full.py\u001b[0m in \u001b[0;36menc\u001b[1;34m(m, pk, p, nn, hh)\u001b[0m\n\u001b[0;32m     16\u001b[0m     \u001b[1;33m(\u001b[0m\u001b[0mR\u001b[0m\u001b[1;33m,\u001b[0m \u001b[0mT\u001b[0m\u001b[1;33m)\u001b[0m \u001b[1;33m=\u001b[0m \u001b[0mpk\u001b[0m\u001b[1;33m\u001b[0m\u001b[1;33m\u001b[0m\u001b[0m\n\u001b[0;32m     17\u001b[0m     \u001b[0mpp\u001b[0m \u001b[1;33m=\u001b[0m \u001b[1;36m2\u001b[0m\u001b[1;33m**\u001b[0m\u001b[0mnn\u001b[0m \u001b[1;33m-\u001b[0m \u001b[1;36m1\u001b[0m\u001b[1;33m\u001b[0m\u001b[1;33m\u001b[0m\u001b[0m\n\u001b[1;32m---> 18\u001b[1;33m     \u001b[0mA\u001b[0m\u001b[1;33m,\u001b[0m \u001b[0mB1\u001b[0m\u001b[1;33m,\u001b[0m \u001b[0mB2\u001b[0m \u001b[1;33m=\u001b[0m \u001b[0mget_nbit_ham_strings\u001b[0m\u001b[1;33m(\u001b[0m\u001b[0mhh\u001b[0m\u001b[1;33m,\u001b[0m \u001b[0mnn\u001b[0m\u001b[1;33m,\u001b[0m \u001b[1;36m3\u001b[0m\u001b[1;33m)\u001b[0m\u001b[1;33m\u001b[0m\u001b[1;33m\u001b[0m\u001b[0m\n\u001b[0m\u001b[0;32m     19\u001b[0m \u001b[1;33m\u001b[0m\u001b[0m\n\u001b[0;32m     20\u001b[0m     \u001b[0mC1\u001b[0m \u001b[1;33m=\u001b[0m \u001b[1;33m(\u001b[0m\u001b[1;33m(\u001b[0m\u001b[0mA\u001b[0m \u001b[1;33m*\u001b[0m \u001b[0mR\u001b[0m\u001b[1;33m)\u001b[0m\u001b[1;33m%\u001b[0m\u001b[0mpp\u001b[0m \u001b[1;33m+\u001b[0m \u001b[0mB1\u001b[0m\u001b[1;33m)\u001b[0m\u001b[1;33m%\u001b[0m\u001b[0mpp\u001b[0m\u001b[1;33m\u001b[0m\u001b[1;33m\u001b[0m\u001b[0m\n",
      "\u001b[1;32m~\\Dropbox\\Personal Website\\AJPS-Attacks\\gen.py\u001b[0m in \u001b[0;36mget_nbit_ham_strings\u001b[1;34m(n, h, num)\u001b[0m\n\u001b[0;32m     78\u001b[0m                 \u001b[1;31m# set random string representation bit\u001b[0m\u001b[1;33m\u001b[0m\u001b[1;33m\u001b[0m\u001b[1;33m\u001b[0m\u001b[0m\n\u001b[0;32m     79\u001b[0m                 \u001b[1;32mif\u001b[0m \u001b[0mbyte_list\u001b[0m\u001b[1;33m[\u001b[0m\u001b[0mbit_idx\u001b[0m\u001b[1;33m]\u001b[0m \u001b[1;33m==\u001b[0m \u001b[1;34m'1'\u001b[0m\u001b[1;33m:\u001b[0m\u001b[1;33m\u001b[0m\u001b[1;33m\u001b[0m\u001b[0m\n\u001b[1;32m---> 80\u001b[1;33m                     \u001b[0mbyte_list\u001b[0m\u001b[1;33m[\u001b[0m\u001b[0mbit_idx\u001b[0m \u001b[1;33m-\u001b[0m \u001b[1;36m1\u001b[0m\u001b[1;33m]\u001b[0m \u001b[1;33m=\u001b[0m \u001b[1;36m1\u001b[0m\u001b[1;33m\u001b[0m\u001b[1;33m\u001b[0m\u001b[0m\n\u001b[0m\u001b[0;32m     81\u001b[0m                 \u001b[1;32melse\u001b[0m\u001b[1;33m:\u001b[0m\u001b[1;33m\u001b[0m\u001b[1;33m\u001b[0m\u001b[0m\n\u001b[0;32m     82\u001b[0m                     \u001b[0mbyte_list\u001b[0m\u001b[1;33m[\u001b[0m\u001b[0mbit_idx\u001b[0m \u001b[1;33m%\u001b[0m \u001b[1;36m8\u001b[0m\u001b[1;33m]\u001b[0m \u001b[1;33m=\u001b[0m \u001b[1;36m1\u001b[0m\u001b[1;33m\u001b[0m\u001b[1;33m\u001b[0m\u001b[0m\n",
      "\u001b[1;31mKeyboardInterrupt\u001b[0m: "
     ]
    }
   ],
   "source": [
    "h = 256\n",
    "runs = 2\n",
    "rho = 256\n",
    "\n",
    "acc = np.zeros((len(ns), 3))\n",
    "correctness = np.zeros(len(ns), dtype=bool)\n",
    "\n",
    "m = string2int(\"Robert DeNiro thinks that Trump will go for a third term via a war\")\n",
    "\n",
    "for i, n in enumerate(ns):\n",
    "    \n",
    "    p = 2**n-1\n",
    "\n",
    "    # KEYGEN\n",
    "    params = [n, h]\n",
    "    time, ret = timer(keygen, params, runs)\n",
    "    acc[i][0] = time\n",
    "    pk, sk, _ = ret\n",
    "    \n",
    "    # ENCRYPTION\n",
    "    params = [m, pk, p, n, h]\n",
    "    time, ret = timer(enc, params, runs)\n",
    "    acc[i][1] = time\n",
    "    C = ret\n",
    "    \n",
    "    print(n, time)\n",
    "    \n",
    "    # DECRYPTION\n",
    "    params = [C, sk, p]\n",
    "    time, ret = timer(dec, params, runs)\n",
    "    acc[i][2] = time\n",
    "    m_prime = ret\n",
    "    \n",
    "    # SUCCESS?\n",
    "    correctness[i] = m_prime == m"
   ]
  },
  {
   "cell_type": "code",
   "execution_count": null,
   "metadata": {},
   "outputs": [],
   "source": [
    "plt.figure(figsize=(10,7))\n",
    "ax = plt.subplot(131)\n",
    "ax.set(title=\"keygen\")\n",
    "_ = plt.plot(ns, acc[:, 0])\n",
    "ax = plt.subplot(132, sharey=ax)\n",
    "ax.set(title=\"encryption\")\n",
    "_ = plt.plot(ns, acc[:, 1])\n",
    "ax = plt.subplot(133, sharey=ax)\n",
    "ax.set(title=\"decryption\")\n",
    "_ = plt.plot(ns, acc[:, 2])"
   ]
  },
  {
   "cell_type": "markdown",
   "metadata": {},
   "source": [
    "AJPS bit-by-bit without GMPY2"
   ]
  },
  {
   "cell_type": "code",
   "execution_count": null,
   "metadata": {},
   "outputs": [],
   "source": [
    "from AJPS_basic import keygen, enc, dec"
   ]
  },
  {
   "cell_type": "code",
   "execution_count": null,
   "metadata": {},
   "outputs": [],
   "source": [
    "h = 256\n",
    "runs = 2\n",
    "rho = 256\n",
    "\n",
    "acc = np.zeros((len(ns), 3))\n",
    "correctness = np.zeros(len(ns), dtype=bool)\n",
    "\n",
    "m = 0\n",
    "\n",
    "for i, n in enumerate(ns):\n",
    "    \n",
    "    p = 2**n-1\n",
    "\n",
    "    # KEYGEN\n",
    "    params = [n, h]\n",
    "    time, ret = timer(keygen, params, runs)\n",
    "    acc[i][0] = time\n",
    "    pk, sk = ret\n",
    "    \n",
    "    # ENCRYPTION\n",
    "    params = [m, pk, p, n, h]\n",
    "    time, ret = timer(enc, params, runs)\n",
    "    acc[i][1] = time\n",
    "    C, signed = ret\n",
    "    \n",
    "    print(n, time)\n",
    "    \n",
    "    # DECRYPTION\n",
    "    params = [C, sk, n, h, signed]\n",
    "    time, ret = timer(dec, params, runs)\n",
    "    acc[i][2] = time\n",
    "    m_prime = ret\n",
    "    \n",
    "    # SUCCESS?\n",
    "    correctness[i] = m_prime == m"
   ]
  },
  {
   "cell_type": "code",
   "execution_count": null,
   "metadata": {
    "scrolled": true
   },
   "outputs": [],
   "source": [
    "plt.figure(figsize=(10,7))\n",
    "ax = plt.subplot(131)\n",
    "ax.set(title=\"keygen\")\n",
    "_ = plt.plot(ns, acc[:, 0])\n",
    "ax = plt.subplot(132, sharey=ax)\n",
    "ax.set(title=\"encryption\")\n",
    "_ = plt.plot(ns, acc[:, 1])\n",
    "ax = plt.subplot(133, sharey=ax)\n",
    "ax.set(title=\"decryption\")\n",
    "_ = plt.plot(ns, acc[:, 2])"
   ]
  },
  {
   "cell_type": "markdown",
   "metadata": {},
   "source": [
    "AJPS FULL BPL without GYMP2:"
   ]
  },
  {
   "cell_type": "code",
   "execution_count": null,
   "metadata": {
    "scrolled": true
   },
   "outputs": [],
   "source": [
    "from AJPS_full_bpl import keygen, enc, dec"
   ]
  },
  {
   "cell_type": "code",
   "execution_count": null,
   "metadata": {},
   "outputs": [],
   "source": [
    "h = 256\n",
    "runs = 2\n",
    "rho = 256\n",
    "\n",
    "acc = np.zeros((len(ns), 3))\n",
    "correctness = np.zeros(len(ns), dtype=bool)\n",
    "\n",
    "m = string2int(\"Robert DeNiro thinks that Trump will go for a third term via a war\")\n",
    "\n",
    "for i, n in enumerate(ns):\n",
    "    \n",
    "    p = 2**n-1\n",
    "\n",
    "    # KEYGEN\n",
    "    params = [n, h, p, False]\n",
    "    time, ret = timer(keygen, params, runs)\n",
    "    acc[i][0] = time\n",
    "    pk, sk, _ = ret\n",
    "    \n",
    "    # ENCRYPTION\n",
    "    params = [m, pk, p, n, h, rho]\n",
    "    time, ret = timer(enc, params, runs)\n",
    "    acc[i][1] = time\n",
    "    C = ret\n",
    "    \n",
    "    print(n, time)\n",
    "    \n",
    "    # DECRYPTION\n",
    "    params = [C, sk, p, rho]\n",
    "    time, ret = timer(dec, params, runs)\n",
    "    acc[i][2] = time\n",
    "    m_prime = ret\n",
    "    \n",
    "    # SUCCESS?\n",
    "    correctness[i] = m_prime == m"
   ]
  },
  {
   "cell_type": "code",
   "execution_count": null,
   "metadata": {},
   "outputs": [],
   "source": [
    "plt.figure(figsize=(10,7))\n",
    "ax = plt.subplot(131)\n",
    "ax.set(title=\"keygen\")\n",
    "_ = plt.plot(ns, acc[:, 0])\n",
    "ax = plt.subplot(132, sharey=ax)\n",
    "ax.set(title=\"encryption\")\n",
    "_ = plt.plot(ns, acc[:, 1])\n",
    "ax = plt.subplot(133, sharey=ax)\n",
    "ax.set(title=\"decryption\")\n",
    "_ = plt.plot(ns, acc[:, 2])"
   ]
  },
  {
   "cell_type": "markdown",
   "metadata": {},
   "source": [
    "AJPS FULL with GMPY2"
   ]
  },
  {
   "cell_type": "code",
   "execution_count": null,
   "metadata": {},
   "outputs": [],
   "source": [
    "from gmpy2 import mpz\n",
    "from AJPS_full import keygen, enc, dec"
   ]
  },
  {
   "cell_type": "code",
   "execution_count": null,
   "metadata": {},
   "outputs": [],
   "source": [
    "h = mpz(256)\n",
    "runs = 2\n",
    "rho = 256\n",
    "\n",
    "\n",
    "acc = np.zeros((len(ns), 3))\n",
    "correctness = np.zeros(len(ns), dtype=bool)\n",
    "\n",
    "m = string2int(\"Robert DeNiro thinks that Trump will go for a third term via a war\")\n",
    "\n",
    "for i, n in enumerate(ns):\n",
    "    \n",
    "    n = mpz(n)\n",
    "    p = mpz(2**n-1)\n",
    "\n",
    "    # KEYGEN\n",
    "    params = [n, h]\n",
    "    time, ret = timer(keygen, params, runs)\n",
    "    acc[i][0] = time\n",
    "    pk, sk, _ = ret\n",
    "    \n",
    "    # ENCRYPTION\n",
    "    params = [m, pk, p, n, h]\n",
    "    time, ret = timer(enc, params, runs)\n",
    "    acc[i][1] = time\n",
    "    C = ret\n",
    "    \n",
    "    print(n, time)\n",
    "    \n",
    "    # DECRYPTION\n",
    "    params = [C, sk, p]\n",
    "    time, ret = timer(dec, params, runs)\n",
    "    acc[i][2] = time\n",
    "    m_prime = ret\n",
    "    \n",
    "    # SUCCESS?\n",
    "    correctness[i] = m_prime == m"
   ]
  },
  {
   "cell_type": "code",
   "execution_count": null,
   "metadata": {},
   "outputs": [],
   "source": [
    "plt.figure(figsize=(10,7))\n",
    "ax = plt.subplot(131)\n",
    "ax.set(title=\"keygen\")\n",
    "_ = plt.plot(ns, acc[:, 0])\n",
    "ax = plt.subplot(132, sharey=ax)\n",
    "ax.set(title=\"encryption\")\n",
    "_ = plt.plot(ns, acc[:, 1])\n",
    "ax = plt.subplot(133, sharey=ax)\n",
    "ax.set(title=\"decryption\")\n",
    "_ = plt.plot(ns, acc[:, 2])"
   ]
  },
  {
   "cell_type": "markdown",
   "metadata": {},
   "source": [
    "AJPS basic with GMPY2"
   ]
  },
  {
   "cell_type": "code",
   "execution_count": null,
   "metadata": {},
   "outputs": [],
   "source": [
    "from AJPS_basic import keygen, enc, dec"
   ]
  },
  {
   "cell_type": "code",
   "execution_count": null,
   "metadata": {},
   "outputs": [],
   "source": [
    "h = mpz(256)\n",
    "runs = 2\n",
    "rho = 256\n",
    "\n",
    "acc = np.zeros((len(ns), 3))\n",
    "correctness = np.zeros(len(ns), dtype=bool)\n",
    "\n",
    "m = 0\n",
    "\n",
    "for i, n in enumerate(ns):\n",
    "    \n",
    "    n = mpz(n)\n",
    "    p = mpz(2**n-1)\n",
    "\n",
    "    # KEYGEN\n",
    "    params = [n, h]\n",
    "    time, ret = timer(keygen, params, runs)\n",
    "    acc[i][0] = time\n",
    "    pk, sk = ret\n",
    "    \n",
    "    # ENCRYPTION\n",
    "    params = [m, pk, p, n, h]\n",
    "    time, ret = timer(enc, params, runs)\n",
    "    acc[i][1] = time\n",
    "    C, signed = ret\n",
    "    \n",
    "    print(n, time)\n",
    "    \n",
    "    # DECRYPTION\n",
    "    params = [C, sk, n, h, signed]\n",
    "    time, ret = timer(dec, params, runs)\n",
    "    acc[i][2] = time\n",
    "    m_prime = ret\n",
    "    \n",
    "    # SUCCESS?\n",
    "    correctness[i] = m_prime == m"
   ]
  },
  {
   "cell_type": "code",
   "execution_count": null,
   "metadata": {},
   "outputs": [],
   "source": [
    "plt.figure(figsize=(10,7))\n",
    "ax = plt.subplot(131)\n",
    "ax.set(title=\"keygen\")\n",
    "_ = plt.plot(ns, acc[:, 0])\n",
    "ax = plt.subplot(132, sharey=ax)\n",
    "ax.set(title=\"encryption\")\n",
    "_ = plt.plot(ns, acc[:, 1])\n",
    "ax = plt.subplot(133, sharey=ax)\n",
    "ax.set(title=\"decryption\")\n",
    "_ = plt.plot(ns, acc[:, 2])"
   ]
  },
  {
   "cell_type": "markdown",
   "metadata": {},
   "source": [
    "AJPS FULL BPL with GMPY2"
   ]
  },
  {
   "cell_type": "code",
   "execution_count": null,
   "metadata": {},
   "outputs": [],
   "source": [
    "from AJPS_full_bpl import keygen, enc, dec"
   ]
  },
  {
   "cell_type": "code",
   "execution_count": null,
   "metadata": {},
   "outputs": [],
   "source": [
    "h = mpz(256)\n",
    "runs = 2\n",
    "rho = 256\n",
    "\n",
    "acc = np.zeros((len(ns), 3))\n",
    "correctness = np.zeros(len(ns), dtype=bool)\n",
    "\n",
    "m = string2int(\"Robert DeNiro thinks that Trump will go for a third term via a war\")\n",
    "\n",
    "for i, n in enumerate(ns):\n",
    "    \n",
    "    n = mpz(n)\n",
    "    p = mpz(2**n-1)\n",
    "\n",
    "    # KEYGEN\n",
    "    params = [n, h, p, True]\n",
    "    time, ret = timer(keygen, params, runs)\n",
    "    acc[i][0] = time\n",
    "    pk, sk, _ = ret\n",
    "    \n",
    "    # ENCRYPTION\n",
    "    params = [m, pk, p, n, h, rho]\n",
    "    time, ret = timer(enc, params, runs)\n",
    "    acc[i][1] = time\n",
    "    C = ret\n",
    "    \n",
    "    print(n, time)\n",
    "    \n",
    "    # DECRYPTION\n",
    "    params = [C, sk, p, rho]\n",
    "    time, ret = timer(dec, params, runs)\n",
    "    acc[i][2] = time\n",
    "    m_prime = ret\n",
    "    \n",
    "    # SUCCESS?\n",
    "    correctness[i] = m_prime == m"
   ]
  },
  {
   "cell_type": "code",
   "execution_count": null,
   "metadata": {},
   "outputs": [],
   "source": [
    "plt.figure(figsize=(10,7))\n",
    "ax = plt.subplot(131)\n",
    "ax.set(title=\"keygen\")\n",
    "_ = plt.plot(ns, acc[:, 0])\n",
    "ax = plt.subplot(132, sharey=ax)\n",
    "ax.set(title=\"encryption\")\n",
    "_ = plt.plot(ns, acc[:, 1])\n",
    "ax = plt.subplot(133, sharey=ax)\n",
    "ax.set(title=\"decryption\")\n",
    "_ = plt.plot(ns, acc[:, 2])"
   ]
  }
 ],
 "metadata": {
  "kernelspec": {
   "display_name": "Python 3",
   "language": "python",
   "name": "python3"
  },
  "language_info": {
   "codemirror_mode": {
    "name": "ipython",
    "version": 3
   },
   "file_extension": ".py",
   "mimetype": "text/x-python",
   "name": "python",
   "nbconvert_exporter": "python",
   "pygments_lexer": "ipython3",
   "version": "3.7.7"
  }
 },
 "nbformat": 4,
 "nbformat_minor": 2
}
